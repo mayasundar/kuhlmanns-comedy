{
  "nbformat": 4,
  "nbformat_minor": 0,
  "metadata": {
    "colab": {
      "name": "kuhlmanns-comedy.ipynb",
      "provenance": []
    },
    "kernelspec": {
      "name": "python3",
      "display_name": "Python 3"
    },
    "language_info": {
      "name": "python"
    }
  },
  "cells": [
    {
      "cell_type": "markdown",
      "source": [
        "## Kuhlmann's Comedy \n",
        "#### Literature in the Age of AI\n",
        "#### Maya Sundar\n",
        "####13 May 2022\n"
      ],
      "metadata": {
        "id": "Xek7n86wnKM0"
      }
    },
    {
      "cell_type": "code",
      "execution_count": null,
      "metadata": {
        "colab": {
          "base_uri": "https://localhost:8080/"
        },
        "id": "D9ISlgU4O0mY",
        "outputId": "1302fd86-252b-4e51-f0ac-b9945c21abe8"
      },
      "outputs": [
        {
          "output_type": "stream",
          "name": "stdout",
          "text": [
            "Collecting nlpaug\n",
            "  Downloading nlpaug-1.1.10-py3-none-any.whl (410 kB)\n",
            "\u001b[K     |████████████████████████████████| 410 kB 3.3 MB/s \n",
            "\u001b[?25hRequirement already satisfied: numpy>=1.16.2 in /usr/local/lib/python3.7/dist-packages (from nlpaug) (1.21.6)\n",
            "Requirement already satisfied: pandas>=1.2.0 in /usr/local/lib/python3.7/dist-packages (from nlpaug) (1.3.5)\n",
            "Requirement already satisfied: requests>=2.22.0 in /usr/local/lib/python3.7/dist-packages (from nlpaug) (2.23.0)\n",
            "Requirement already satisfied: python-dateutil>=2.7.3 in /usr/local/lib/python3.7/dist-packages (from pandas>=1.2.0->nlpaug) (2.8.2)\n",
            "Requirement already satisfied: pytz>=2017.3 in /usr/local/lib/python3.7/dist-packages (from pandas>=1.2.0->nlpaug) (2022.1)\n",
            "Requirement already satisfied: six>=1.5 in /usr/local/lib/python3.7/dist-packages (from python-dateutil>=2.7.3->pandas>=1.2.0->nlpaug) (1.15.0)\n",
            "Requirement already satisfied: certifi>=2017.4.17 in /usr/local/lib/python3.7/dist-packages (from requests>=2.22.0->nlpaug) (2021.10.8)\n",
            "Requirement already satisfied: idna<3,>=2.5 in /usr/local/lib/python3.7/dist-packages (from requests>=2.22.0->nlpaug) (2.10)\n",
            "Requirement already satisfied: chardet<4,>=3.0.2 in /usr/local/lib/python3.7/dist-packages (from requests>=2.22.0->nlpaug) (3.0.4)\n",
            "Requirement already satisfied: urllib3!=1.25.0,!=1.25.1,<1.26,>=1.21.1 in /usr/local/lib/python3.7/dist-packages (from requests>=2.22.0->nlpaug) (1.24.3)\n",
            "Installing collected packages: nlpaug\n",
            "Successfully installed nlpaug-1.1.10\n"
          ]
        }
      ],
      "source": [
        "pip install nlpaug"
      ]
    },
    {
      "cell_type": "code",
      "source": [
        "import nlpaug.augmenter.word as naw\n",
        "aug = naw.RandomWordAug()"
      ],
      "metadata": {
        "id": "DRNd9dltO7R1"
      },
      "execution_count": null,
      "outputs": []
    },
    {
      "cell_type": "code",
      "source": [
        "aug = naw.random.RandomWordAug(action='swap', name='RandomWord_Aug', aug_min=1, aug_max=10, aug_p=0.3, stopwords=None, target_words=None, tokenizer=None, reverse_tokenizer=None, stopwords_regex=None, verbose=0)                                                        \n",
        "aug.augment(\"hello heyeyyeyyeyyyy review\")"
      ],
      "metadata": {
        "colab": {
          "base_uri": "https://localhost:8080/",
          "height": 37
        },
        "id": "YkLWO-GqR00d",
        "outputId": "71158b46-3ecf-4629-a826-fbf55273c47c"
      },
      "execution_count": null,
      "outputs": [
        {
          "output_type": "execute_result",
          "data": {
            "text/plain": [
              "'heyeyyeyyeyyyy hello review'"
            ],
            "application/vnd.google.colaboratory.intrinsic+json": {
              "type": "string"
            }
          },
          "metadata": {},
          "execution_count": 11
        }
      ]
    },
    {
      "cell_type": "code",
      "source": [
        "from google.colab import files\n",
        "files.upload()\n"
      ],
      "metadata": {
        "colab": {
          "resources": {
            "http://localhost:8080/nbextensions/google.colab/files.js": {
              "data": "Ly8gQ29weXJpZ2h0IDIwMTcgR29vZ2xlIExMQwovLwovLyBMaWNlbnNlZCB1bmRlciB0aGUgQXBhY2hlIExpY2Vuc2UsIFZlcnNpb24gMi4wICh0aGUgIkxpY2Vuc2UiKTsKLy8geW91IG1heSBub3QgdXNlIHRoaXMgZmlsZSBleGNlcHQgaW4gY29tcGxpYW5jZSB3aXRoIHRoZSBMaWNlbnNlLgovLyBZb3UgbWF5IG9idGFpbiBhIGNvcHkgb2YgdGhlIExpY2Vuc2UgYXQKLy8KLy8gICAgICBodHRwOi8vd3d3LmFwYWNoZS5vcmcvbGljZW5zZXMvTElDRU5TRS0yLjAKLy8KLy8gVW5sZXNzIHJlcXVpcmVkIGJ5IGFwcGxpY2FibGUgbGF3IG9yIGFncmVlZCB0byBpbiB3cml0aW5nLCBzb2Z0d2FyZQovLyBkaXN0cmlidXRlZCB1bmRlciB0aGUgTGljZW5zZSBpcyBkaXN0cmlidXRlZCBvbiBhbiAiQVMgSVMiIEJBU0lTLAovLyBXSVRIT1VUIFdBUlJBTlRJRVMgT1IgQ09ORElUSU9OUyBPRiBBTlkgS0lORCwgZWl0aGVyIGV4cHJlc3Mgb3IgaW1wbGllZC4KLy8gU2VlIHRoZSBMaWNlbnNlIGZvciB0aGUgc3BlY2lmaWMgbGFuZ3VhZ2UgZ292ZXJuaW5nIHBlcm1pc3Npb25zIGFuZAovLyBsaW1pdGF0aW9ucyB1bmRlciB0aGUgTGljZW5zZS4KCi8qKgogKiBAZmlsZW92ZXJ2aWV3IEhlbHBlcnMgZm9yIGdvb2dsZS5jb2xhYiBQeXRob24gbW9kdWxlLgogKi8KKGZ1bmN0aW9uKHNjb3BlKSB7CmZ1bmN0aW9uIHNwYW4odGV4dCwgc3R5bGVBdHRyaWJ1dGVzID0ge30pIHsKICBjb25zdCBlbGVtZW50ID0gZG9jdW1lbnQuY3JlYXRlRWxlbWVudCgnc3BhbicpOwogIGVsZW1lbnQudGV4dENvbnRlbnQgPSB0ZXh0OwogIGZvciAoY29uc3Qga2V5IG9mIE9iamVjdC5rZXlzKHN0eWxlQXR0cmlidXRlcykpIHsKICAgIGVsZW1lbnQuc3R5bGVba2V5XSA9IHN0eWxlQXR0cmlidXRlc1trZXldOwogIH0KICByZXR1cm4gZWxlbWVudDsKfQoKLy8gTWF4IG51bWJlciBvZiBieXRlcyB3aGljaCB3aWxsIGJlIHVwbG9hZGVkIGF0IGEgdGltZS4KY29uc3QgTUFYX1BBWUxPQURfU0laRSA9IDEwMCAqIDEwMjQ7CgpmdW5jdGlvbiBfdXBsb2FkRmlsZXMoaW5wdXRJZCwgb3V0cHV0SWQpIHsKICBjb25zdCBzdGVwcyA9IHVwbG9hZEZpbGVzU3RlcChpbnB1dElkLCBvdXRwdXRJZCk7CiAgY29uc3Qgb3V0cHV0RWxlbWVudCA9IGRvY3VtZW50LmdldEVsZW1lbnRCeUlkKG91dHB1dElkKTsKICAvLyBDYWNoZSBzdGVwcyBvbiB0aGUgb3V0cHV0RWxlbWVudCB0byBtYWtlIGl0IGF2YWlsYWJsZSBmb3IgdGhlIG5leHQgY2FsbAogIC8vIHRvIHVwbG9hZEZpbGVzQ29udGludWUgZnJvbSBQeXRob24uCiAgb3V0cHV0RWxlbWVudC5zdGVwcyA9IHN0ZXBzOwoKICByZXR1cm4gX3VwbG9hZEZpbGVzQ29udGludWUob3V0cHV0SWQpOwp9CgovLyBUaGlzIGlzIHJvdWdobHkgYW4gYXN5bmMgZ2VuZXJhdG9yIChub3Qgc3VwcG9ydGVkIGluIHRoZSBicm93c2VyIHlldCksCi8vIHdoZXJlIHRoZXJlIGFyZSBtdWx0aXBsZSBhc3luY2hyb25vdXMgc3RlcHMgYW5kIHRoZSBQeXRob24gc2lkZSBpcyBnb2luZwovLyB0byBwb2xsIGZvciBjb21wbGV0aW9uIG9mIGVhY2ggc3RlcC4KLy8gVGhpcyB1c2VzIGEgUHJvbWlzZSB0byBibG9jayB0aGUgcHl0aG9uIHNpZGUgb24gY29tcGxldGlvbiBvZiBlYWNoIHN0ZXAsCi8vIHRoZW4gcGFzc2VzIHRoZSByZXN1bHQgb2YgdGhlIHByZXZpb3VzIHN0ZXAgYXMgdGhlIGlucHV0IHRvIHRoZSBuZXh0IHN0ZXAuCmZ1bmN0aW9uIF91cGxvYWRGaWxlc0NvbnRpbnVlKG91dHB1dElkKSB7CiAgY29uc3Qgb3V0cHV0RWxlbWVudCA9IGRvY3VtZW50LmdldEVsZW1lbnRCeUlkKG91dHB1dElkKTsKICBjb25zdCBzdGVwcyA9IG91dHB1dEVsZW1lbnQuc3RlcHM7CgogIGNvbnN0IG5leHQgPSBzdGVwcy5uZXh0KG91dHB1dEVsZW1lbnQubGFzdFByb21pc2VWYWx1ZSk7CiAgcmV0dXJuIFByb21pc2UucmVzb2x2ZShuZXh0LnZhbHVlLnByb21pc2UpLnRoZW4oKHZhbHVlKSA9PiB7CiAgICAvLyBDYWNoZSB0aGUgbGFzdCBwcm9taXNlIHZhbHVlIHRvIG1ha2UgaXQgYXZhaWxhYmxlIHRvIHRoZSBuZXh0CiAgICAvLyBzdGVwIG9mIHRoZSBnZW5lcmF0b3IuCiAgICBvdXRwdXRFbGVtZW50Lmxhc3RQcm9taXNlVmFsdWUgPSB2YWx1ZTsKICAgIHJldHVybiBuZXh0LnZhbHVlLnJlc3BvbnNlOwogIH0pOwp9CgovKioKICogR2VuZXJhdG9yIGZ1bmN0aW9uIHdoaWNoIGlzIGNhbGxlZCBiZXR3ZWVuIGVhY2ggYXN5bmMgc3RlcCBvZiB0aGUgdXBsb2FkCiAqIHByb2Nlc3MuCiAqIEBwYXJhbSB7c3RyaW5nfSBpbnB1dElkIEVsZW1lbnQgSUQgb2YgdGhlIGlucHV0IGZpbGUgcGlja2VyIGVsZW1lbnQuCiAqIEBwYXJhbSB7c3RyaW5nfSBvdXRwdXRJZCBFbGVtZW50IElEIG9mIHRoZSBvdXRwdXQgZGlzcGxheS4KICogQHJldHVybiB7IUl0ZXJhYmxlPCFPYmplY3Q+fSBJdGVyYWJsZSBvZiBuZXh0IHN0ZXBzLgogKi8KZnVuY3Rpb24qIHVwbG9hZEZpbGVzU3RlcChpbnB1dElkLCBvdXRwdXRJZCkgewogIGNvbnN0IGlucHV0RWxlbWVudCA9IGRvY3VtZW50LmdldEVsZW1lbnRCeUlkKGlucHV0SWQpOwogIGlucHV0RWxlbWVudC5kaXNhYmxlZCA9IGZhbHNlOwoKICBjb25zdCBvdXRwdXRFbGVtZW50ID0gZG9jdW1lbnQuZ2V0RWxlbWVudEJ5SWQob3V0cHV0SWQpOwogIG91dHB1dEVsZW1lbnQuaW5uZXJIVE1MID0gJyc7CgogIGNvbnN0IHBpY2tlZFByb21pc2UgPSBuZXcgUHJvbWlzZSgocmVzb2x2ZSkgPT4gewogICAgaW5wdXRFbGVtZW50LmFkZEV2ZW50TGlzdGVuZXIoJ2NoYW5nZScsIChlKSA9PiB7CiAgICAgIHJlc29sdmUoZS50YXJnZXQuZmlsZXMpOwogICAgfSk7CiAgfSk7CgogIGNvbnN0IGNhbmNlbCA9IGRvY3VtZW50LmNyZWF0ZUVsZW1lbnQoJ2J1dHRvbicpOwogIGlucHV0RWxlbWVudC5wYXJlbnRFbGVtZW50LmFwcGVuZENoaWxkKGNhbmNlbCk7CiAgY2FuY2VsLnRleHRDb250ZW50ID0gJ0NhbmNlbCB1cGxvYWQnOwogIGNvbnN0IGNhbmNlbFByb21pc2UgPSBuZXcgUHJvbWlzZSgocmVzb2x2ZSkgPT4gewogICAgY2FuY2VsLm9uY2xpY2sgPSAoKSA9PiB7CiAgICAgIHJlc29sdmUobnVsbCk7CiAgICB9OwogIH0pOwoKICAvLyBXYWl0IGZvciB0aGUgdXNlciB0byBwaWNrIHRoZSBmaWxlcy4KICBjb25zdCBmaWxlcyA9IHlpZWxkIHsKICAgIHByb21pc2U6IFByb21pc2UucmFjZShbcGlja2VkUHJvbWlzZSwgY2FuY2VsUHJvbWlzZV0pLAogICAgcmVzcG9uc2U6IHsKICAgICAgYWN0aW9uOiAnc3RhcnRpbmcnLAogICAgfQogIH07CgogIGNhbmNlbC5yZW1vdmUoKTsKCiAgLy8gRGlzYWJsZSB0aGUgaW5wdXQgZWxlbWVudCBzaW5jZSBmdXJ0aGVyIHBpY2tzIGFyZSBub3QgYWxsb3dlZC4KICBpbnB1dEVsZW1lbnQuZGlzYWJsZWQgPSB0cnVlOwoKICBpZiAoIWZpbGVzKSB7CiAgICByZXR1cm4gewogICAgICByZXNwb25zZTogewogICAgICAgIGFjdGlvbjogJ2NvbXBsZXRlJywKICAgICAgfQogICAgfTsKICB9CgogIGZvciAoY29uc3QgZmlsZSBvZiBmaWxlcykgewogICAgY29uc3QgbGkgPSBkb2N1bWVudC5jcmVhdGVFbGVtZW50KCdsaScpOwogICAgbGkuYXBwZW5kKHNwYW4oZmlsZS5uYW1lLCB7Zm9udFdlaWdodDogJ2JvbGQnfSkpOwogICAgbGkuYXBwZW5kKHNwYW4oCiAgICAgICAgYCgke2ZpbGUudHlwZSB8fCAnbi9hJ30pIC0gJHtmaWxlLnNpemV9IGJ5dGVzLCBgICsKICAgICAgICBgbGFzdCBtb2RpZmllZDogJHsKICAgICAgICAgICAgZmlsZS5sYXN0TW9kaWZpZWREYXRlID8gZmlsZS5sYXN0TW9kaWZpZWREYXRlLnRvTG9jYWxlRGF0ZVN0cmluZygpIDoKICAgICAgICAgICAgICAgICAgICAgICAgICAgICAgICAgICAgJ24vYSd9IC0gYCkpOwogICAgY29uc3QgcGVyY2VudCA9IHNwYW4oJzAlIGRvbmUnKTsKICAgIGxpLmFwcGVuZENoaWxkKHBlcmNlbnQpOwoKICAgIG91dHB1dEVsZW1lbnQuYXBwZW5kQ2hpbGQobGkpOwoKICAgIGNvbnN0IGZpbGVEYXRhUHJvbWlzZSA9IG5ldyBQcm9taXNlKChyZXNvbHZlKSA9PiB7CiAgICAgIGNvbnN0IHJlYWRlciA9IG5ldyBGaWxlUmVhZGVyKCk7CiAgICAgIHJlYWRlci5vbmxvYWQgPSAoZSkgPT4gewogICAgICAgIHJlc29sdmUoZS50YXJnZXQucmVzdWx0KTsKICAgICAgfTsKICAgICAgcmVhZGVyLnJlYWRBc0FycmF5QnVmZmVyKGZpbGUpOwogICAgfSk7CiAgICAvLyBXYWl0IGZvciB0aGUgZGF0YSB0byBiZSByZWFkeS4KICAgIGxldCBmaWxlRGF0YSA9IHlpZWxkIHsKICAgICAgcHJvbWlzZTogZmlsZURhdGFQcm9taXNlLAogICAgICByZXNwb25zZTogewogICAgICAgIGFjdGlvbjogJ2NvbnRpbnVlJywKICAgICAgfQogICAgfTsKCiAgICAvLyBVc2UgYSBjaHVua2VkIHNlbmRpbmcgdG8gYXZvaWQgbWVzc2FnZSBzaXplIGxpbWl0cy4gU2VlIGIvNjIxMTU2NjAuCiAgICBsZXQgcG9zaXRpb24gPSAwOwogICAgZG8gewogICAgICBjb25zdCBsZW5ndGggPSBNYXRoLm1pbihmaWxlRGF0YS5ieXRlTGVuZ3RoIC0gcG9zaXRpb24sIE1BWF9QQVlMT0FEX1NJWkUpOwogICAgICBjb25zdCBjaHVuayA9IG5ldyBVaW50OEFycmF5KGZpbGVEYXRhLCBwb3NpdGlvbiwgbGVuZ3RoKTsKICAgICAgcG9zaXRpb24gKz0gbGVuZ3RoOwoKICAgICAgY29uc3QgYmFzZTY0ID0gYnRvYShTdHJpbmcuZnJvbUNoYXJDb2RlLmFwcGx5KG51bGwsIGNodW5rKSk7CiAgICAgIHlpZWxkIHsKICAgICAgICByZXNwb25zZTogewogICAgICAgICAgYWN0aW9uOiAnYXBwZW5kJywKICAgICAgICAgIGZpbGU6IGZpbGUubmFtZSwKICAgICAgICAgIGRhdGE6IGJhc2U2NCwKICAgICAgICB9LAogICAgICB9OwoKICAgICAgbGV0IHBlcmNlbnREb25lID0gZmlsZURhdGEuYnl0ZUxlbmd0aCA9PT0gMCA/CiAgICAgICAgICAxMDAgOgogICAgICAgICAgTWF0aC5yb3VuZCgocG9zaXRpb24gLyBmaWxlRGF0YS5ieXRlTGVuZ3RoKSAqIDEwMCk7CiAgICAgIHBlcmNlbnQudGV4dENvbnRlbnQgPSBgJHtwZXJjZW50RG9uZX0lIGRvbmVgOwoKICAgIH0gd2hpbGUgKHBvc2l0aW9uIDwgZmlsZURhdGEuYnl0ZUxlbmd0aCk7CiAgfQoKICAvLyBBbGwgZG9uZS4KICB5aWVsZCB7CiAgICByZXNwb25zZTogewogICAgICBhY3Rpb246ICdjb21wbGV0ZScsCiAgICB9CiAgfTsKfQoKc2NvcGUuZ29vZ2xlID0gc2NvcGUuZ29vZ2xlIHx8IHt9OwpzY29wZS5nb29nbGUuY29sYWIgPSBzY29wZS5nb29nbGUuY29sYWIgfHwge307CnNjb3BlLmdvb2dsZS5jb2xhYi5fZmlsZXMgPSB7CiAgX3VwbG9hZEZpbGVzLAogIF91cGxvYWRGaWxlc0NvbnRpbnVlLAp9Owp9KShzZWxmKTsK",
              "ok": true,
              "headers": [
                [
                  "content-type",
                  "application/javascript"
                ]
              ],
              "status": 200,
              "status_text": ""
            }
          },
          "base_uri": "https://localhost:8080/",
          "height": 518
        },
        "id": "w3PqetPITJ5A",
        "outputId": "7e6b1285-4a68-4614-9e42-764f97f540e5"
      },
      "execution_count": null,
      "outputs": [
        {
          "output_type": "display_data",
          "data": {
            "text/plain": [
              "<IPython.core.display.HTML object>"
            ],
            "text/html": [
              "\n",
              "     <input type=\"file\" id=\"files-0dac86f9-20b0-45c6-a460-55ee1b2a6c5c\" name=\"files[]\" multiple disabled\n",
              "        style=\"border:none\" />\n",
              "     <output id=\"result-0dac86f9-20b0-45c6-a460-55ee1b2a6c5c\">\n",
              "      Upload widget is only available when the cell has been executed in the\n",
              "      current browser session. Please rerun this cell to enable.\n",
              "      </output>\n",
              "      <script src=\"/nbextensions/google.colab/files.js\"></script> "
            ]
          },
          "metadata": {}
        },
        {
          "output_type": "stream",
          "name": "stdout",
          "text": [
            "Saving 30rock1x15-2.txt to 30rock1x15-2.txt\n",
            "Saving 30rock1x15.txt to 30rock1x15.txt\n",
            "Saving 30rock2x01.txt to 30rock2x01.txt\n",
            "Saving b99-1x04-2.txt to b99-1x04-2.txt\n",
            "Saving b99-1x04.txt to b99-1x04.txt\n",
            "Saving frasier1x01.txt to frasier1x01.txt\n",
            "Saving frasier1x17.txt to frasier1x17.txt\n",
            "Saving frasier3x13.txt to frasier3x13.txt\n",
            "Saving seinfeld3x06.txt to seinfeld3x06.txt\n"
          ]
        },
        {
          "output_type": "execute_result",
          "data": {
            "text/plain": [
              "{'30rock1x15-2.txt': b'EXT. BASKETBALL COURT - CONTINUOUS\\n\\nTRACY\\nYou\\'re the only one I can trust, K.\\nYou\\'re my whole entourage now.\\n\\nKENNETH\\nI\\'m not so sure I can handle that.\\n\\nTRACY\\nYes, you can. Because you were honest with me. I don\\'t need a couple of \"yes men\". I need the truth.\\n\\nKENNETH\\nWell, if that\\'s the case then I should tell you that you\\'re never going to dunk that basketball. Also, that Oscar you have is made of chocolate. And that lady you European-kissed last night was actually a gentleman--\\n\\nTRACY\\nOkay, Kenneth, that\\'s enough!',\n",
              " '30rock1x15.txt': b'ACT ONE\\nFADE IN:\\nINT. MAXIM PHOTO SHOOT SET - DAY\\n\\nA downtown photography studio. A PHOTOGRAPHER and ASSISTANTS are setting up around a sleek leather couch. MILE, a thirtyish hipster, oversees everything. LIZ stands next to JENNA, who\\'s wearing a robe.\\n\\nLIZ\\nThis is such an honor. I\\'m friends with number four on \"Maxim\\'s\" list of the sexiest women in comedy.\\n\\nJENNA\\nAt first I was mad that Marge Simpson beat me, but then I saw the photos: hot.\\n\\nAn assistant takes Jenna\\'s robe, revealing a sexy outfit. Liz reacts. The assistant starts oiling up Jenna.\\n\\nLIZ\\nEw, Jenna, what is that smell?\\n\\nJENNA\\nOh, that\\'s the body oil. It doesn\\'t smell great but it makes my skin glow. It\\'s really expensive -- there\\'s some horse semen in it!',\n",
              " '30rock2x01.txt': b'Liz holds the wedding dress up to herself in the mirror on the back of her office door. It is gorgeous. She thinks about trying it on. Just then Jack bursts in, disheveled and frantic. Liz quickly hides the dress.\\n\\nJACK\\nI\\xe2\\x80\\x99m in crisis mode, Lemon. I\\xe2\\x80\\x99ve\\nalready sold twenty million dollars in ad time for \\xe2\\x80\\x9cSeinfeldVision.\\xe2\\x80\\x9d Now Jerry\\xe2\\x80\\x99s trying to pull the plug. It\\xe2\\x80\\x99s alright. I thrive in crisis mode. It brings out the best in me. And the fact that I have not one idea of how to solve this only energizes me more. I was up all night brainstorming.\\n\\nJack flips through a yellow legal pad he\\xe2\\x80\\x99s clearly been writing on a lot.\\n\\nJACK (CONT\\xe2\\x80\\x99D)\\nNumber one: kill Seinfeld. Number\\ntwo: kill Seinfeld, then kill\\nmyself. Number three: kill\\nSeinfeld, flee to Svenborgia -- \\n\\nLIZ\\nJack, I\\xe2\\x80\\x99m not having the best day\\neither --\\n\\nHe flips several pages in.\\n\\nJACK\\nNumber seventy: you seduce\\nSeinfeld.\\n\\nLIZ\\nWhy is me seducing Seinfeld all the\\nway at seventy?\\n\\nJACK\\nSeventy-one: I fake a hurricane so\\nall regular programming gets canceled.\\n\\nLIZ\\nThese are terrible ideas.\\n\\nJACK (snapping at her)\\nThere are no bad ideas in brainstorming!\\n(collects himself)\\nIt\\xe2\\x80\\x99s all right. Something\\xe2\\x80\\x99ll come to me in the eleventh hour.\\n(manically laughing)\\nIt always does, Donaghy! You devil!\\n\\nJack exits as abruptly as he entered.',\n",
              " 'b99-1x04-2.txt': b'INT. HOLT\\xe2\\x80\\x99S OFFICE - LATER (D3)\\n\\nHolt works at his desk. Amy enters, holding a framed painting to her chest.\\n\\nAMY \\nKnock knock.\\n\\nHOLT\\nYou can knock with your hands. Saying it is ridiculous.\\n\\nAMY\\nOkay, well, I know that you\\xe2\\x80\\x99re having a bad day...\\n\\nHe stares at her, blank-faced.\\n\\nAMY (CONT\\xe2\\x80\\x99D)\\n...I think you\\xe2\\x80\\x99re having a bad day. So to cheer you up, I had Terry do this painting, to replace the photo you hated.\\n\\nShe turns the painting around, revealing a beautiful OIL PORTRAIT of Holt. He looks somber and dignified.\\n\\nHOLT\\nI threw away the photo because I think it\\xe2\\x80\\x99s ostentatious to hang pictures of yourself, especially when you haven\\xe2\\x80\\x99t earned a place on the wall.\\n\\nAMY \\nAh.\\n\\nHOLT\\nBut you would have me hang a baroque oil painting of myself, like I\\xe2\\x80\\x99m a North Korean dictator. No ornate gold frame? And why am I not astride a noble steed, clad in armor?\\n\\nAMY (lost)\\nWe can add a horse!',\n",
              " 'b99-1x04.txt': b'INT. BULLPEN - BACK TO SCENE (D2)\\n\\nAMY\\nI\\xe2\\x80\\x99m telling you -- he and I have a\\nconnection, and there is something bothering him. Can you help me out?\\n\\nTerry nods. Amy beckons to SUE, the eyewitness.\\n\\nAMY (CONT\\xe2\\x80\\x99D)\\nMa\\xe2\\x80\\x99am, can you describe the perp to\\nSergeant Jeffords, please?\\n\\nSUE\\nHe had dark, curly hair, a neck tattoo--\\n\\nTERRY\\nWait slow down. Start with the eyes.\\nWere they desperate? Lonely? Did they betray heartache?\\n\\nSUE\\nUm, they were brown.\\n\\nHe tosses the pencil on the table.\\n\\nTERRY\\nDo you even want your purse back?\\n\\nAmy rolls her eyes: this is gonna take forever.',\n",
              " 'frasier1x01.txt': b'FRASIER\\nOh, for crying out loud. I finally bare my soul to all of Seattle and they\\'re listening to \"Chopper Dave\\'s Rush-Hour Roundup\"? At least the rest of the show was good. (THEN)\\nIt was a good show, wasn\\'t it?\\n\\nROZ\\nHere. (HANDS HIM A SLIP OF PAPER)\\nYour brother called.\\n\\nFRASIER\\nYou know, in the trade, we call that avoidance. Don\\'t change the subject. What did you think?\\n\\nSHE POINTS TO HER CONSOLE.\\n\\nROZ\\nDid I ever show you what this button does?\\n\\nFRASIER\\nI\\'m not a piece of Lalique. I can handle criticism. How was I today?\\n\\nROZ\\nLet\\'s see. You dropped two commercials, you left a total of twenty-eight seconds of dead air, you scrambled the call letters, you spilled yogurt on the control board and you kept referring to Jerry with the identity crisis as \"Jeff.\"\\n\\nFRASIER\\n(PAUSE) You say my brother called.',\n",
              " 'frasier1x17.txt': b\"FRASIER\\nWell, pretend you weren't so superficial and you actually managed to pull off a long term relationship. What would you do to keep things hot?\\n\\nROZ\\nWell, once I had a boyfriend take me out to a bar and we pretended we were strangers picking each other up. That was kind of hot.\\n\\nFRASIER\\nSo you used fantasy and role playing.\\n\\nROZ\\nYeah, it was so much fun we tried it again, only that time he went home with someone else.\",\n",
              " 'frasier3x13.txt': b'MARTIN\\nNo one ever does. Trust me on this.\\nWhen I was separated from your mother, there was this pretty coroner in the city morgue. I guess I always had a little crush on her. Any time we found a dead body I\\'d jump in and say, \"Okay, boys, I\\'ll take it from\\nhere.\" So, one night I down to the corner bar.\\n\\nNILES Coroners have their own bars?\\n\\nMARTIN No, corner, Niles. The corner. Anyway, we had a few drinks, the lights were low, Sinatra\\nwas on the juke box \\xe2\\x80\\x94 suddenly it all started pouring out. I told her how I felt. I knew the second it was out of my mouth it was a mistake. She let me down easy, but we still had to go on seeing each other all the time and it was very uncomfortable. Sure wasn\\'t any fun going to the morgue after that.',\n",
              " 'seinfeld3x06.txt': b\"\\nACT ONE\\nSCENE A\\n  INT. ESCALATOR -\\n  GOING DOWN TO A GARAGE. IN SINGLE FILE: GEORGE, JERRY AND ELAINE, WHO'S CARRYING A PLASTIC BAG WITH GOLDFISH, AND KRAMER WHO'S HAVING A ROUGH TIME WITH A LARGE, HEAVY BOX.\\n\\nGEORGE\\nOne left...What a joke.\\n\\nKRAMER \\nYou can have this one.\\n\\nGEORGE\\nNo, that's not enough BTUs for my\\nliving room...That was a complete waste of time.\\n\\nELAINE\\nHey, I didn't get one either.\\n\\nJERRY\\nWhy do I always have the feeling that\\neverybody's doing something better than me on Saturday afternoons?\\n\\nELAINE \\nThis is what people do.\\n\\nJERRY\\nNo they don't. They're out on some big\\npicnic. They're cooking burgers. They're making out on blankets. They're not at some mall in Jersey watching their friends trying to find the world's cheapest air-conditioner.\\n\\nTHEY GET OFF THE ESCALATOR AND HEAD FOR THE CAR.\"}"
            ]
          },
          "metadata": {},
          "execution_count": 12
        }
      ]
    },
    {
      "cell_type": "code",
      "source": [
        "line1 = \"EXT. BASKETBALL COURT - CONTINUOUS\"\n",
        "\n",
        "line2 = \"TRACY\"\n",
        "line3 = \"Youre the only one I can trust, K. Youre my whole entourage now.\"\n",
        "\n",
        "line4 = \"KENNETH\"\n",
        "line5 = \"Im not so sure I can handle that.\"\n",
        "\n",
        "line6 = \"TRACY\"\n",
        "line7 = \"Yes, you can. Because you were honest with me. I don't need a couple of yes men. I need the truth.\"\n",
        "\n",
        "line8 = \"KENNETH\"\n",
        "line9 = \"Well, if thats the case then I should tell you that youre never going to dunk that basketball. Also, that Oscar you have is made of chocolate. And that lady you European-kissed last night was actually a gentleman--\"\n",
        "\n",
        "line10 = \"TRACY\"\n",
        "line11 = \"Okay, Kenneth, thats enough!\"\n",
        "\n",
        "thirtyrocklines = [line1, line2, line3, line4, line5, line6, line7, line8, line9, line10, line11]"
      ],
      "metadata": {
        "id": "w5Xk2lgaT-gF"
      },
      "execution_count": null,
      "outputs": []
    },
    {
      "cell_type": "code",
      "source": [
        "aug = naw.random.RandomWordAug(action='swap', name='RandomWord_Aug', aug_min=1, aug_max=10, aug_p=0.3, stopwords=['KENNETH', 'TRACY', ',', 'the', 'I', '.', '!'], target_words=None, tokenizer=None, reverse_tokenizer=None, stopwords_regex=None, verbose=0)                                                        \n",
        "aug.augment(thirtyrocklines)\n"
      ],
      "metadata": {
        "colab": {
          "base_uri": "https://localhost:8080/"
        },
        "id": "NIdryvNgTPdF",
        "outputId": "bd47bd6e-9fc0-496a-93d0-313be76c83a8"
      },
      "execution_count": null,
      "outputs": [
        {
          "output_type": "execute_result",
          "data": {
            "text/plain": [
              "['. EXT COURT BASKETBALL - CONTINUOUS',\n",
              " 'TRACY',\n",
              " 'The only youre I one can trust, K. Youre my whole now. entourage',\n",
              " 'KENNETH',\n",
              " 'Im not sure so can I that handle.',\n",
              " 'TRACY',\n",
              " \", yes you can. you Because were honest with me. I ' don t need a yes couple of men. I need the truth.\",\n",
              " 'KENNETH',\n",
              " 'Well, if thats the then case I should tell you that youre never to going dunk that. Also basketball that, Oscar made you have of is chocolate. And that lady you European kissed - last night was actually a gentleman - -',\n",
              " 'TRACY',\n",
              " ', okay, Kenneth enough thats!']"
            ]
          },
          "metadata": {},
          "execution_count": 50
        }
      ]
    },
    {
      "cell_type": "code",
      "source": [
        "line1 = \"ACT ONE\"\n",
        "line2 = \"FADE IN:\"\n",
        "line3 = \"INT. MAXIM PHOTO SHOOT SET - DAY\"\n",
        "line4 = \"A downtown photography studio. A PHOTOGRAPHER and ASSISTANTS are setting up around a sleek leather couch. MILE, a thirtyish hipster, oversees everything. LIZ stands next to JENNA, whos wearing a robe.\"\n",
        "\n",
        "line5 = \"LIZ\"\n",
        "line6 = \"This is such an honor. Im friends with number four on Maxims list of the sexiest women in comedy.\"\n",
        "\n",
        "line7 = \"JENNA\"\n",
        "line8 = \"At first I was mad that Marge Simpson beat me, but then I saw the photos: hot.\"\n",
        "\n",
        "line9 = \"An assistant takes Jennas robe, revealing a sexy outfit. Liz reacts. The assistant starts oiling up Jenna.\"\n",
        "\n",
        "line10 = \"LIZ\"\n",
        "line11 = \"Ew, Jenna, what is that smell?\"\n",
        "\n",
        "line12 = \"JENNA\"\n",
        "line13 = \"Oh, thats the body oil. It doesnt smell great but it makes my skin glow. Its really expensive -- theres some horse semen in it!\"\n",
        "\n",
        "thirtyrocklinestwo = [line1, line2, line3, line4, line5, line6, line7, line8, line9, line10, line11, line12, line13]"
      ],
      "metadata": {
        "id": "W3eu4L4Ca4vR"
      },
      "execution_count": null,
      "outputs": []
    },
    {
      "cell_type": "code",
      "source": [
        "aug = naw.random.RandomWordAug(action='swap', name='RandomWord_Aug', aug_min=1, aug_max=10, aug_p=0.3, stopwords=['LIZ', 'JENNA', ',', 'the', 'I', '.', '!', 'ACT ONE', 'Jennas', 'its', ':'], target_words=None, tokenizer=None, reverse_tokenizer=None, stopwords_regex=None, verbose=0)                                                        \n",
        "aug.augment(thirtyrocklinestwo[4:14])\n"
      ],
      "metadata": {
        "colab": {
          "base_uri": "https://localhost:8080/"
        },
        "id": "46aNlbNIZDHI",
        "outputId": "40fc86f3-2c31-41fb-8396-76c631df3987"
      },
      "execution_count": null,
      "outputs": [
        {
          "output_type": "execute_result",
          "data": {
            "text/plain": [
              "['LIZ',\n",
              " 'This is such an honor Im. friends number with on four Maxims of list the sexiest in women comedy.',\n",
              " 'JENNA',\n",
              " 'At I was first mad Marge that beat Simpson me but, then I saw the photos hot:.',\n",
              " 'Takes an assistant Jennas robe, revealing a sexy. outfit Liz. The reacts assistant starts oiling up Jenna.',\n",
              " 'LIZ',\n",
              " 'Ew Jenna, , is that what smell?',\n",
              " 'JENNA',\n",
              " 'Oh, thats the body oil It. smell doesnt great it but glow makes my skin. Its expensive really - - theres some semen horse it in!']"
            ]
          },
          "metadata": {},
          "execution_count": 87
        }
      ]
    },
    {
      "cell_type": "code",
      "source": [
        "line1 = \"Liz holds the wedding dress up to herself in the mirror on the back of her office door. It is gorgeous. She thinks about trying it on. Just then Jack bursts in, disheveled and frantic. Liz quickly hides the dress.\"\n",
        "\n",
        "line2 = \"JACK\"\n",
        "line3 = \"Im in crisis mode, Lemon. Ive already sold twenty million dollars in ad time for “SeinfeldVision.” Now Jerry’s trying to pull the plug. It’s alright. I thrive in crisis mode. It brings out the best in me. And the fact that I have not one idea of how to solve this only energizes me more. I was up all night brainstorming.\"\n",
        "\n",
        "line4 = \"Jack flips through a yellow legal pad hes clearly been writing on a lot.\"\n",
        "\n",
        "line5 = \"JACK (CONT’D)\"\n",
        "line6 = \"Number one: kill Seinfeld. Number two: kill Seinfeld, then kill myself. Number three: kill Seinfeld, flee to Svenborgia -- \"\n",
        "\n",
        "\n",
        "line7 = \"LIZ\"\n",
        "line8 = \"Jack, I’m not having the best day either --\"\n",
        "\n",
        "line9 = \"He flips several pages in.\"\n",
        "\n",
        "line10 = \"JACK\"\n",
        "line11 = \"Number seventy: you seduce Seinfeld.\"\n",
        "\n",
        "line12 = \"LIZ\"\n",
        "line13 = \"Why is me seducing Seinfeld all the way at seventy?\"\n",
        "\n",
        "line14 = \"JACK\"\n",
        "line15 = \"Seventy-one: I fake a hurricane so all regular programming gets canceled.\"\n",
        "\n",
        "line16 = \"LIZ\"\n",
        "line17 = \"These are terrible ideas.\"\n",
        "\n",
        "line18 = \"JACK (snapping at her)\"\n",
        "line19 = \"There are no bad ideas in brainstorming!\"\n",
        "line20 =\"(collects himself)\"\n",
        "line21 = \"Its all right. Somethingll come to me in the eleventh hour. (manically laughing) It always does, Donaghy! You devil!\"\n",
        "\n",
        "line22 = \"Jack exits as abruptly as he entered.\"\n",
        "\n",
        "thirtyrocklinesthree = [line1, line2, line3, line4, line5, line6, line7, line8, line9, line10, line11, line12, line13, line14, line15, line16, line17, line18, line19, line20, line21, line22]"
      ],
      "metadata": {
        "id": "nZWAHrDCiZO8"
      },
      "execution_count": null,
      "outputs": []
    },
    {
      "cell_type": "code",
      "source": [
        "aug = naw.random.RandomWordAug(action='swap', name='RandomWord_Aug', aug_min=1, aug_max=5, aug_p=0.1, stopwords=['LIZ', 'JACK', ',', 'the', 'I', '.', '!', 'you', ':', '-', 'ACT ONE', 'Jennas', 'its', ':'], target_words=None, tokenizer=None, reverse_tokenizer=None, stopwords_regex=None, verbose=0)                                                        \n",
        "aug.augment(thirtyrocklinesthree)\n"
      ],
      "metadata": {
        "colab": {
          "base_uri": "https://localhost:8080/"
        },
        "id": "pzHSsNu0nSMA",
        "outputId": "b971e665-d2bd-41e2-bac5-780f9e05aaf7"
      },
      "execution_count": null,
      "outputs": [
        {
          "output_type": "execute_result",
          "data": {
            "text/plain": [
              "['Holds liz the up wedding dress to herself in the mirror on the back of her office door. It is gorgeous. She thinks about trying it on. Just then bursts Jack in, disheveled and. frantic Liz quickly hides the dress.',\n",
              " 'JACK',\n",
              " 'Im in crisis mode, Lemon. Ive already sold million twenty dollars in ad time for “ SeinfeldVision. ” Now Jerry ’ s trying to pull the plug. It ’ s alright. I thrive in crisis mode. It brings out the best in me And. the fact that I not have idea one of how to solve this only energizes more me. I was up all night brainstorming.',\n",
              " 'Jack flips through a pad yellow legal hes clearly been writing on a lot.',\n",
              " 'JACK (CONT ’) D',\n",
              " 'Number: one kill Seinfeld. Number: two kill, Seinfeld then kill myself. Number three: kill Seinfeld, flee to Svenborgia - -',\n",
              " 'LIZ',\n",
              " 'Jack, I ’ m not the having best day - either -',\n",
              " 'Flips he several pages in.',\n",
              " 'JACK',\n",
              " 'Seventy number: you seduce Seinfeld.',\n",
              " 'LIZ',\n",
              " 'Why is me seducing Seinfeld the all way seventy at?',\n",
              " 'JACK',\n",
              " 'Seventy - one: I fake a so hurricane all regular gets programming canceled.',\n",
              " 'LIZ',\n",
              " 'These terrible are ideas.',\n",
              " 'JACK (snapping at) her',\n",
              " 'There are no ideas bad in brainstorming!',\n",
              " '( himself collects )',\n",
              " 'Its all right. Somethingll come to me in the eleventh hour. (laughing manically) always It does, ! Donaghy You devil!',\n",
              " 'Jack as exits abruptly as he entered.']"
            ]
          },
          "metadata": {},
          "execution_count": 98
        }
      ]
    },
    {
      "cell_type": "code",
      "source": [
        "line1 = \"INT. HOLT’S OFFICE - LATER (D3)\"\n",
        "\n",
        "line2 = \"Holt works at his desk. Amy enters, holding a framed painting to her chest.\"\n",
        "\n",
        "line3 = \"AMY\"\n",
        "line4 = \"Knock knock.\"\n",
        "\n",
        "line5 = \"HOLT\"\n",
        "line6 = \"You can knock with your hands. Saying it is ridiculous.\"\n",
        "\n",
        "line7 = \"AMY\"\n",
        "line8 = \"Okay, well, I know that youre having a bad day...\"\n",
        "\n",
        "line9 = \"He stares at her, blank-faced.\"\n",
        "\n",
        "line10 = \"AMY (CONT’D)\"\n",
        "line11 = \"...I think youre having a bad day. So to cheer you up, I had Terry do this painting, to replace the photo you hated.\"\n",
        "\n",
        "line12 = \"She turns the painting around, revealing a beautiful OIL PORTRAIT of Holt. He looks somber and dignified.\"\n",
        "\n",
        "line13 = \"HOLT\"\n",
        "line14 = \"I threw away the photo because I think its ostentatious to hang pictures of yourself, especially when you havent earned a place on the wall.\"\n",
        "\n",
        "line15 = \"AMY\"\n",
        "line16 = \"Ah.\"\n",
        "\n",
        "line17 = \"HOLT\"\n",
        "line18 = \"But you would have me hang a baroque oil painting of myself, like Im a North Korean dictator. No ornate gold frame? And why am I not astride a noble steed, clad in armor?\"\n",
        "\n",
        "line19 = \"AMY (lost)\"\n",
        "line20 = \"We can add a horse!\"\n",
        "\n",
        "bklines = [line1, line2, line3, line4, line5, line6, line7, line8, line9, line10, line11, line12, line13, line14, line15, line16, line17, line18, line19, line20]"
      ],
      "metadata": {
        "id": "QzNY-sz7wkSJ"
      },
      "execution_count": null,
      "outputs": []
    },
    {
      "cell_type": "code",
      "source": [
        "aug = naw.random.RandomWordAug(action='swap', name='RandomWord_Aug', aug_min=1, aug_max=5, aug_p=0.3, stopwords=['HOLT', '.', ',' 'AMY', ',', 'the', 'I', '.', '!', 'you', ':', '-', 'ACT ONE', 'its', ':'], target_words=None, tokenizer=None, reverse_tokenizer=None, stopwords_regex=None, verbose=0)                                                        \n",
        "aug.augment(bklines)\n"
      ],
      "metadata": {
        "colab": {
          "base_uri": "https://localhost:8080/"
        },
        "id": "O6mVGtjY1E5i",
        "outputId": "742b6c8d-0c92-434f-97be-e7d0d96d42c3"
      },
      "execution_count": null,
      "outputs": [
        {
          "output_type": "execute_result",
          "data": {
            "text/plain": [
              "['. INT HOLT ’ - S LATER OFFICE (D3 )',\n",
              " 'Holt works his at desk. Amy enters holding, a painting framed to her chest.',\n",
              " 'AMY',\n",
              " 'Knock. knock',\n",
              " 'HOLT',\n",
              " 'Can you knock with your hands. it Saying is ridiculous.',\n",
              " 'AMY',\n",
              " ', okay, well that I know youre having a bad. day..',\n",
              " 'Stares at he her blank, - faced.',\n",
              " 'AMY CONT (D ’ )',\n",
              " '.. . I think youre a having bad day. to So cheer up you, I had Terry this do painting, to replace photo the you hated.',\n",
              " 'She turns the around painting revealing, a OIL PORTRAIT beautiful Holt of. He looks somber and dignified.',\n",
              " 'HOLT',\n",
              " 'I threw the away photo because I think its ostentatious to hang pictures of yourself, especially when you earned havent place on a wall the.',\n",
              " 'AMY',\n",
              " '. ah',\n",
              " 'HOLT',\n",
              " 'But would you have hang me a baroque oil painting of myself, like Im a Korean North dictator. No ornate gold frame And? why am I not astride a noble steed, clad armor in?',\n",
              " 'lost AMY ()',\n",
              " 'We add can horse a!']"
            ]
          },
          "metadata": {},
          "execution_count": 126
        }
      ]
    },
    {
      "cell_type": "code",
      "source": [
        "line1 = \"INT. BULLPEN - BACK TO SCENE (D2)\"\n",
        "\n",
        "line2 = \"AMY\"\n",
        "line3 = \"Im telling you -- he and I have a connection, and there is something bothering him. Can you help me out?\"\n",
        "\n",
        "line4 = \"Terry nods. Amy beckons to SUE, the eyewitness.\"\n",
        "\n",
        "line5 = \"AMY (CONT D)\"\n",
        "line6 = \"Maam, can you describe the perp to Sergeant Jeffords, please?\"\n",
        "\n",
        "line7 = \"SUE\"\n",
        "line8 = \"He had dark, curly hair, a neck tattoo--\"\n",
        "\n",
        "line9 = \"TERRY\"\n",
        "line10 = \"Wait slow down. Start with the eyes.\"\n",
        "line11 = \"Were they desperate? Lonely? Did they betray heartache?\"\n",
        "\n",
        "line12 = \"SUE\"\n",
        "line13 = \"Um, they were brown.\"\n",
        "\n",
        "line14 = \"He tosses the pencil on the table.\"\n",
        "\n",
        "line15 = \"TERRY\"\n",
        "line16 = \"Do you even want your purse back?\"\n",
        "\n",
        "line17 = \"Amy rolls her eyes: this is gonna take forever.\"\n",
        "\n",
        "bklinestwo= [line1, line2, line3, line4, line5, line6, line7, line8, line9, line10, line11, line12, line13, line14, line15, line16, line17]"
      ],
      "metadata": {
        "id": "fFPIAEmj1hRL"
      },
      "execution_count": null,
      "outputs": []
    },
    {
      "cell_type": "code",
      "source": [
        "aug = naw.random.RandomWordAug(action='swap', name='RandomWord_Aug', aug_min=1, aug_max=5, aug_p=0.3,\n",
        "                               stopwords=['TERRY', 'SUE', '.', ',' 'AMY', ',', 'the', 'I', '.', '!', 'you', ':', '-', 'ACT ONE', 'its', ':'], target_words=None, tokenizer=None, reverse_tokenizer=None, stopwords_regex=None, verbose=0)                                                        \n",
        "aug.augment(bklinestwo)\n"
      ],
      "metadata": {
        "colab": {
          "base_uri": "https://localhost:8080/"
        },
        "id": "eocQv-ph5uol",
        "outputId": "79bd534e-2a1b-4b3e-9722-ef7c0281ca40"
      },
      "execution_count": null,
      "outputs": [
        {
          "output_type": "execute_result",
          "data": {
            "text/plain": [
              "['BULLPEN INT. - TO BACK SCENE (D2 )',\n",
              " 'AMY',\n",
              " 'Im telling you - - he I and have a connection, and is there something bothering him Can. you help me out?',\n",
              " 'Terry nods Amy. to beckons SUE, the eyewitness.',\n",
              " '( AMY CONT) D',\n",
              " 'Maam, you can describe perp the to Sergeant Jeffords, please?',\n",
              " 'SUE',\n",
              " 'He dark had, curly hair, neck a tattoo - -',\n",
              " 'TERRY',\n",
              " 'Wait slow down. with Start the eyes.',\n",
              " 'They were? desperate Lonely? Did betray they? heartache',\n",
              " 'SUE',\n",
              " 'They um, were brown.',\n",
              " 'Tosses he the the pencil on table.',\n",
              " 'TERRY',\n",
              " 'You do even your want purse? back',\n",
              " 'Rolls amy her eyes: this is gonna forever take.']"
            ]
          },
          "metadata": {},
          "execution_count": 132
        }
      ]
    },
    {
      "cell_type": "code",
      "source": [
        "line1 = \"FRASIER\"\n",
        "line2 = \"Well, pretend you werent so superficial and you actually managed to pull off a long term relationship. What would you do to keep things hot?\"\n",
        "\n",
        "line3 = \"ROZ\"\n",
        "line4 = \"Well, once I had a boyfriend take me out to a bar and we pretended we were strangers picking each other up. That was kind of hot.\"\n",
        "\n",
        "line5 = \"FRASIER\"\n",
        "line6 = \"So you used fantasy and role playing.\"\n",
        "\n",
        "line7 = \"ROZ\"\n",
        "line8 = \"Yeah, it was so much fun we tried it again, only that time he went home with someone else.\"\n",
        "\n",
        "frasier = [line1, line2, line3, line4, line5, line6, line7, line8]"
      ],
      "metadata": {
        "id": "h3YApYtk9noo"
      },
      "execution_count": null,
      "outputs": []
    },
    {
      "cell_type": "code",
      "source": [
        "aug = naw.random.RandomWordAug(action='swap', name='RandomWord_Aug', aug_min=1, aug_max=5, aug_p=0.6,\n",
        "                               stopwords=['FRASIER', 'ROZ', '.', ',', 'the', 'I', '.', 'and', '!', 'you', ':', '-', 'ACT ONE', 'its', ':'], target_words=None, tokenizer=None, reverse_tokenizer=None, stopwords_regex=None, verbose=0)                                                        \n",
        "aug.augment(frasier)\n"
      ],
      "metadata": {
        "colab": {
          "base_uri": "https://localhost:8080/"
        },
        "id": "dRJl8Ejr96Ok",
        "outputId": "31e31923-b7a1-46c3-fe16-082d3fa6fb3d"
      },
      "execution_count": null,
      "outputs": [
        {
          "output_type": "execute_result",
          "data": {
            "text/plain": [
              "['FRASIER',\n",
              " 'Well, pretend you so werent superficial and you actually managed pull to off a long term relationship. What you would do keep to hot things?',\n",
              " 'ROZ',\n",
              " ', well once I had a boyfriend take me out to a and bar pretended we we were picking strangers other each up. That was kind of hot.',\n",
              " 'FRASIER',\n",
              " 'You so used fantasy role and. playing',\n",
              " 'ROZ',\n",
              " ', yeah it was much so fun we tried again it, only that he time went home someone with else.']"
            ]
          },
          "metadata": {},
          "execution_count": 140
        }
      ]
    },
    {
      "cell_type": "code",
      "source": [
        "line1 = \"MARTIN\"\n",
        "line2 = \"No one ever does. Trust me on this. When I was separated from your mother, there was this pretty coroner in the city morgue. I guess I always had a little crush on her. Any time we found a dead body Id jump in and say, 'Okay, boys, Ill take it from here.' So, one night I down to the corner bar.\"\n",
        "\n",
        "line3 = \"NILES\"\n",
        "line4 = \"Coroners have their own bars?\"\n",
        "\n",
        "line5 = \"MARTIN\"\n",
        "line6 = \"No, corner, Niles. The corner. Anyway, we had a few drinks, the lights were low, Sinatra was on the juke box — suddenly it all started pouring out. I told her how I felt. I knew the second it was out of my mouth it was a mistake. She let me down easy, but we still had to go on seeing each other all the time and it was very uncomfortable. Sure wasnt any fun going to the morgue after that.\"\n",
        "\n",
        "frasierlinestwo = [line1, line2, line3, line4, line5, line6]"
      ],
      "metadata": {
        "id": "CZrcZ9YK-TP6"
      },
      "execution_count": null,
      "outputs": []
    },
    {
      "cell_type": "code",
      "source": [
        "aug = naw.random.RandomWordAug(action='swap', name='RandomWord_Aug', aug_min=1, aug_max=10, aug_p=0.3,\n",
        "                               stopwords=['MARTIN', 'NILES', '.', ',', 'the', 'I', '.', 'their', 'and', '!', 'you', ':', '-', 'ACT ONE', 'its', ':'], target_words=None, tokenizer=None, reverse_tokenizer=None, stopwords_regex=None, verbose=0)                                                        \n",
        "aug.augment(frasierlinestwo)\n"
      ],
      "metadata": {
        "colab": {
          "base_uri": "https://localhost:8080/"
        },
        "id": "zgKxpn0l-zZm",
        "outputId": "99e41d0d-4dd8-4f29-f61a-ba3c398e7140"
      },
      "execution_count": null,
      "outputs": [
        {
          "output_type": "execute_result",
          "data": {
            "text/plain": [
              "['MARTIN',\n",
              " \"No one ever does. Trust me on. When this I was separated from your mother there, was this pretty coroner the in morgue city. I guess I always had a little crush on her. Any time found we a dead body Id in jump and say, ' Okay, boys, take Ill from it. here ' So, one night I down to the corner bar.\",\n",
              " 'NILES',\n",
              " 'Coroners own have their bars?',\n",
              " 'MARTIN',\n",
              " 'No, corner, Niles. The corner. Anyway, had we few a drinks, the lights were low, Sinatra was on the juke — suddenly box it all started pouring out. I told her I how felt. I knew the second it was of out my mouth it was a mistake. She let down me easy, but we still had to go on other seeing each all the time and was it very uncomfortable. Sure wasnt any fun going to the morgue after that.']"
            ]
          },
          "metadata": {},
          "execution_count": 145
        }
      ]
    },
    {
      "cell_type": "code",
      "source": [
        "line1 = \"FRASIER\"\n",
        "line2 = \"Oh, for crying out loud. I finally bare my soul to all of Seattle and theyre listening to 'Chopper Daves RushHour Roundup'? At least the rest of the show was good. (THEN) It was a good show, wasnt it?\"\n",
        "\n",
        "line3 = \"ROZ\"\n",
        "line4 = \"Here. (HANDS HIM A SLIP OF PAPER) Your brother called.\"\n",
        "\n",
        "line5 = \"FRASIER\"\n",
        "line6 = \"You know, in the trade, we call that avoidance. Dont change the subject. What did you think?\"\n",
        "\n",
        "line7 = \"SHE POINTS TO HER CONSOLE.\"\n",
        "\n",
        "line8 = \"ROZ\"\n",
        "line9 = \"Did I ever show you what this button does?\"\n",
        "\n",
        "line10 = \"FRASIER\"\n",
        "line11 = \"Im not a piece of Lalique. I can handle criticism. How was I today?\"\n",
        "\n",
        "line12 = \"ROZ\"\n",
        "line13 = \"Lets see. You dropped two commercials, you left a total of twentyeight seconds of dead air, you scrambled the call letters, you spilled yogurt on the control board and you kept referring to Jerry with the identity crisis as 'Jeff.'\"\n",
        "\n",
        "line14 = \"FRASIER\"\n",
        "line15 = \"(PAUSE) You say my brother called.\"\n",
        "\n",
        "frasierlinesthree = [line1, line2, line3, line4, line5, line6, line7, line8, line9, line10, line11, line12, line13, line14, line15]"
      ],
      "metadata": {
        "id": "0TY5xkFr_GNj"
      },
      "execution_count": null,
      "outputs": []
    },
    {
      "cell_type": "code",
      "source": [
        "aug = naw.random.RandomWordAug(action='swap', name='RandomWord_Aug', aug_min=1, aug_max=10, aug_p=0.3,\n",
        "                               stopwords=['FRASIER', 'ROZ', '.', ',', 'the', 'I', '.', 'their', 'and', '!', 'you', ':', '-', 'ACT ONE', 'its', ':'], target_words=None, tokenizer=None, reverse_tokenizer=None, stopwords_regex=None, verbose=0)                                                        \n",
        "aug.augment(frasierlinesthree)\n"
      ],
      "metadata": {
        "colab": {
          "base_uri": "https://localhost:8080/"
        },
        "id": "Iig8v3pCMeU3",
        "outputId": "b8ecd099-3a64-4406-883f-7295980781b6"
      },
      "execution_count": null,
      "outputs": [
        {
          "output_type": "execute_result",
          "data": {
            "text/plain": [
              "['FRASIER',\n",
              " \"Oh, for crying out loud. I finally bare my soul to Seattle all of and listening theyre to ' Daves Chopper Roundup RushHour '? least At rest the of the was show good. () THEN It was a good show, wasnt? it\",\n",
              " 'ROZ',\n",
              " 'Here. (HIM HANDS A OF SLIP PAPER) Your called brother.',\n",
              " 'FRASIER',\n",
              " 'Know you, the in trade we, call that avoidance. Dont change the. subject did What you think?',\n",
              " 'SHE POINTS HER CONSOLE TO.',\n",
              " 'ROZ',\n",
              " 'Did ever I show you this button what does?',\n",
              " 'FRASIER',\n",
              " 'Im a not Lalique piece of. I can handle criticism. was How I today?',\n",
              " 'ROZ',\n",
              " \"Lets see. You dropped commercials two, you left a total of of twentyeight seconds dead air, you scrambled the call letters, spilled you yogurt on the control board and you referring kept to Jerry with the identity as crisis ' Jeff. '\",\n",
              " 'FRASIER',\n",
              " '( PAUSE) You my say. brother called']"
            ]
          },
          "metadata": {},
          "execution_count": 148
        }
      ]
    },
    {
      "cell_type": "code",
      "source": [
        "line1 = \"ACT ONE\"\n",
        "line2 = \"SCENE A\"\n",
        "line3 = \"INT. ESCALATOR - GOING DOWN TO A GARAGE. IN SINGLE FILE: GEORGE, JERRY AND ELAINE, WHOS CARRYING A PLASTIC BAG WITH GOLDFISH, AND KRAMER WHOS HAVING A ROUGH TIME WITH A LARGE, HEAVY BOX.\"\n",
        "\n",
        "line4 = \"GEORGE\"\n",
        "line5 = \"One left...What a joke.\"\n",
        "\n",
        "line6 = \"KRAMER\"\n",
        "line7 = \"You can have this one.\"\n",
        "\n",
        "line8 = \"GEORGE\"\n",
        "line9 = \"No, thats not enough BTUs for my living room...That was a complete waste of time.\"\n",
        "\n",
        "line10 = \"ELAINE\"\n",
        "line11 = \"Hey, I didnt get one either.\"\n",
        "\n",
        "line12 = \"JERRY\"\n",
        "line13 = \"Why do I always have the feeling that everybodys doing something better than me on Saturday afternoons?\"\n",
        "\n",
        "line14 = \"ELAINE\"\n",
        "line15 = \"This is what people do.\"\n",
        "\n",
        "line16 = \"JERRY\"\n",
        "line17 = \"No they dont. Theyre out on some big picnic. Theyre cooking burgers. Theyre making out on blankets. Theyre not at some mall in Jersey watching their friends trying to find the worlds cheapest air-conditioner.\"\n",
        "\n",
        "line18 = \"THEY GET OFF THE ESCALATOR AND HEAD FOR THE CAR.\"\n",
        "seinfeld = [line1, line2, line3, line4, line5, line6, line7, line8, line9, line10, line11, line12, line13, line14, line15, line16, line17, line18]"
      ],
      "metadata": {
        "id": "8VEjlEOkMygJ"
      },
      "execution_count": null,
      "outputs": []
    },
    {
      "cell_type": "code",
      "source": [
        "aug = naw.random.RandomWordAug(action='swap', name='RandomWord_Aug', aug_min=1, aug_max=10, aug_p=0.3,\n",
        "                               stopwords=['ELAINE', 'JERRY', 'GEORGE', 'KRAMER' '.', ',', 'the', 'I', '.', 'their', 'and', '!', 'you', ':', '-', 'ACT ONE', 'its', ':'], target_words=None, tokenizer=None, reverse_tokenizer=None, stopwords_regex=None, verbose=0)                                                        \n",
        "aug.augment(seinfeld)\n"
      ],
      "metadata": {
        "colab": {
          "base_uri": "https://localhost:8080/"
        },
        "id": "oVtH1jmMPHmm",
        "outputId": "00a79548-e7c1-4676-d210-29866fe9d55d"
      },
      "execution_count": null,
      "outputs": [
        {
          "output_type": "execute_result",
          "data": {
            "text/plain": [
              "['ONE ACT',\n",
              " 'A SCENE',\n",
              " 'INT ESCALATOR. - DOWN GOING TO A GARAGE. SINGLE IN: FILE GEORGE, AND JERRY ELAINE, WHOS CARRYING PLASTIC A BAG GOLDFISH WITH, AND KRAMER WHOS A HAVING ROUGH TIME WITH LARGE A HEAVY, BOX.',\n",
              " 'GEORGE',\n",
              " 'One left. . joke. What a.',\n",
              " 'KRAMER',\n",
              " 'You can have this one.',\n",
              " 'GEORGE',\n",
              " 'No, not enough thats BTUs for my living room. .. was That a complete waste time. of',\n",
              " 'ELAINE',\n",
              " 'Hey, get I didnt one. either',\n",
              " 'JERRY',\n",
              " 'Do why I have always feeling the that doing everybodys something better me than Saturday on afternoons?',\n",
              " 'ELAINE',\n",
              " 'Is this people what do.',\n",
              " 'JERRY',\n",
              " 'They dont no Theyre. on out some big picnic. Theyre burgers cooking. making Theyre out on blankets. Theyre not at mall some in Jersey watching their friends to trying find worlds the air cheapest - conditioner.',\n",
              " 'GET THEY OFF ESCALATOR HEAD THE AND FOR THE CAR.']"
            ]
          },
          "metadata": {},
          "execution_count": 153
        }
      ]
    }
  ]
}